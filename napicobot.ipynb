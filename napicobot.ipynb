{
 "metadata": {
  "language_info": {
   "codemirror_mode": {
    "name": "ipython",
    "version": 3
   },
   "file_extension": ".py",
   "mimetype": "text/x-python",
   "name": "python",
   "nbconvert_exporter": "python",
   "pygments_lexer": "ipython3",
   "version": "3.8.5"
  },
  "orig_nbformat": 2,
  "kernelspec": {
   "name": "python385jvsc74a57bd0485035c5b2a6f2b50dc2dc5ca51aeeb931032fbc9adc2e30c7c528d6bf8a9176",
   "display_name": "Python 3.8.5 32-bit ('base': conda)"
  }
 },
 "nbformat": 4,
 "nbformat_minor": 2,
 "cells": [
  {
   "source": [
    "import telepot\n",
    "\n",
    "token = \"1749792111:AAHhGbNY1zcwg76ZwIMgdkYbrae3Gfqi6xI\"\n",
    "mc = \"1693638524\"\n",
    "bot = telepot.Bot(token)\n",
    "bot.sendMessage(mc, \"PC에서 보내는 메시지입니다.\")"
   ],
   "cell_type": "code",
   "metadata": {},
   "execution_count": 1,
   "outputs": [
    {
     "output_type": "execute_result",
     "data": {
      "text/plain": [
       "{'message_id': 77,\n",
       " 'from': {'id': 1749792111,\n",
       "  'is_bot': True,\n",
       "  'first_name': 'napico',\n",
       "  'username': 'napicobot'},\n",
       " 'chat': {'id': 1693638524,\n",
       "  'first_name': '병권',\n",
       "  'last_name': '최',\n",
       "  'type': 'private'},\n",
       " 'date': 1617694137,\n",
       " 'text': 'PC에서 보내는 메시지입니다.'}"
      ]
     },
     "metadata": {},
     "execution_count": 1
    }
   ]
  },
  {
   "cell_type": "code",
   "execution_count": null,
   "metadata": {},
   "outputs": [],
   "source": [
    "import telegram\n",
    "\n",
    "token = \"1749792111:AAHhGbNY1zcwg76ZwIMgdkYbrae3Gfqi6xI\"\n",
    "mc = \"1693638524\"\n",
    "bot = telegram.Bot(token)\n",
    "bot.sendMessage(mc, \"안녕하세요 napico 채봇입니다.\")\n",
    "\n",
    "\"\"\"\n",
    "updates = bot.getUpdates()\n",
    "print(updates)\n",
    "for i in updates:\n",
    "    print(i)\n",
    "\"\"\""
   ]
  },
  {
   "source": [
    "# 라이브러리 불러오기\n",
    "import requests\n",
    "from bs4 import BeautifulSoup\n",
    "import telegram\n",
    "from apscheduler.schedulers.blocking import BlockingScheduler\n",
    "\n",
    "# 검색 키워드\n",
    "search_word = 'HMM'\n",
    "\n",
    "# 텔레그램 봇 생성\n",
    "token = \"1749792111:AAHhGbNY1zcwg76ZwIMgdkYbrae3Gfqi6xI\"\n",
    "mc = \"1693638524\"\n",
    "bot = telegram.Bot(token)\n",
    "\n",
    "# 스케쥴러 생성\n",
    "sched = BlockingScheduler()\n",
    "\n",
    "# 기존에 보냈던 링크를 담아둘 리스트\n",
    "old_links = []\n",
    "\n",
    "# 스크래핑 함수 \n",
    "def extract_links(old_links=[]):\n",
    "    url = f'https://m.search.naver.com/search.naver?where=m_news&sm=mtb_jum&query={search_word}'\n",
    "    req = requests.get(url)\n",
    "    html = req.text\n",
    "    soup = BeautifulSoup(html, 'html.parser')\n",
    "    search_result = soup.select_one('#news_result_list')\n",
    "    news_list = search_result.select('.bx > .news_wrap > a')\n",
    "\n",
    "    links = []\n",
    "    for news in news_list[:5]:\n",
    "        link = news['href']\n",
    "        links.append(link)\n",
    "    \n",
    "    new_links=[]\n",
    "    for link in links:\n",
    "        if link not in old_links:\n",
    "            new_links.append(link)\n",
    "    \n",
    "    return new_links\n",
    "\n",
    "\"\"\"\n",
    "# 이전 링크를 매개변수로 받아서, 비교 후 새로운 링크만 출력\n",
    "# 차후 이 부분을 메시지 전송 코드로 변경하고 매시간 동작하도록 설정\n",
    "# 새로운 링크가 없다면 빈 리스트 반환\n",
    "for i in range(3):\n",
    "    new_links = extract_links(old_links)\n",
    "    print('===보낼 링크===\\n', new_links,'\\n')\n",
    "    old_links += new_links.copy()\n",
    "    old_links = list(set(old_links))\n",
    "\"\"\"\n",
    "\n",
    "# 텔레그램 메시지 전송 함수\n",
    "def send_links():\n",
    "    global old_links\n",
    "    new_links = extract_links(old_links)\n",
    "    if new_links:\n",
    "        for link in new_links:\n",
    "            bot.sendMessage(mc, link)\n",
    "    else:\n",
    "        bot.sendMessage(mc, '새로운 뉴스 없음')\n",
    "    old_links += new_links.copy()\n",
    "    old_links = list(set(old_links))\n",
    "\n",
    "# 최초 시작\n",
    "send_links()\n",
    "\n",
    "# 스케쥴러 세팅 및 작동\n",
    "sched.add_job(send_links, 'interval', minutes=5)\n",
    "sched.start()\n"
   ],
   "cell_type": "code",
   "metadata": {},
   "execution_count": null,
   "outputs": []
  },
  {
   "cell_type": "code",
   "execution_count": null,
   "metadata": {},
   "outputs": [],
   "source": []
  }
 ]
}